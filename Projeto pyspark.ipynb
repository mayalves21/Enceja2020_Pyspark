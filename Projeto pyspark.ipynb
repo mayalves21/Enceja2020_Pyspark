{
 "cells": [
  {
   "cell_type": "code",
   "execution_count": 2,
   "id": "a653ccd1",
   "metadata": {},
   "outputs": [
    {
     "data": {
      "text/html": [
       "<style>pre { white-space: pre !important; }</style>"
      ],
      "text/plain": [
       "<IPython.core.display.HTML object>"
      ]
     },
     "metadata": {},
     "output_type": "display_data"
    }
   ],
   "source": [
    "#Bibliotecas utilizadas no tratamento dos dados\n",
    "\n",
    "from pyspark.sql import SparkSession\n",
    "spark = SparkSession.builder \\\n",
    "   .master(\"local\") \\\n",
    "   .appName(\"Linear Regression Model\") \\\n",
    "   .config(\"spark.executor.memory\", \"1gb\") \\\n",
    "   .getOrCreate()\n",
    "sc = spark.sparkContext\n",
    "from pyspark.sql.types import *\n",
    "from pyspark.sql.functions import *\n",
    "from pyspark.sql import functions as f\n",
    "from IPython.core.display import HTML\n",
    "display(HTML(\"<style>pre { white-space: pre !important; }</style>\"))\n",
    "spark = SparkSession.builder.appName('sparkdf').getOrCreate()\n",
    "def create_session():\n",
    "    spk = SparkSession.builder \\\n",
    "        .master(\"local\") \\\n",
    "        .appName(\"Filter_values.com\") \\\n",
    "        .getOrCreate()\n",
    "    return spk\n",
    "spark = SparkSession.builder.appName('Joins').getOrCreate()"
   ]
  },
  {
   "cell_type": "code",
   "execution_count": 4,
   "id": "99777208",
   "metadata": {
    "scrolled": true
   },
   "outputs": [
    {
     "name": "stderr",
     "output_type": "stream",
     "text": [
      "22/05/22 19:54:53 WARN package: Truncated the string representation of a plan since it was too large. This behavior can be adjusted by setting 'spark.sql.debug.maxToStringFields'.\n",
      "                                                                                \r"
     ]
    },
    {
     "name": "stdout",
     "output_type": "stream",
     "text": [
      "+------------+------+---------------+---------------+-------+-----------+-----------+-------------------------+-----------+-----------+-----------+-----------+--------------+--------------+--------------+--------------+-----------+-----------+-----------+-----------+----------+----------+----------+----------+--------------+--------------+--------------+--------------+--------------------+--------------------+--------------------+--------------------+--------------------+--------------------+--------------------+--------------------+-----------------+-------------+-------------+-------------+-------------+-------------+---------------+---+---+----+---+----+----+----+----+----+----+----+----+----+----+----+----+----+----+----+----+---+---+---+---+---+---+---+----+----+----+----+----+---+---+----+---+---+---+---+---+---+---+---+---+---+----+----+----+----+----+---+---+----+---+---+----+----+---+----+----+----+----+----+----+----+----+\n",
      "|NU_INSCRICAO|NU_ANO|TP_CERTIFICACAO|TP_FAIXA_ETARIA|TP_SEXO|CO_UF_PROVA|SG_UF_PROVA|NO_ENTIDADE_CERTIFICADORA|IN_PROVA_LC|IN_PROVA_MT|IN_PROVA_CN|IN_PROVA_CH|TP_PRESENCA_LC|TP_PRESENCA_MT|TP_PRESENCA_CN|TP_PRESENCA_CH|CO_PROVA_LC|CO_PROVA_MT|CO_PROVA_CN|CO_PROVA_CH|NU_NOTA_LC|NU_NOTA_MT|NU_NOTA_CN|NU_NOTA_CH|IN_APROVADO_LC|IN_APROVADO_MT|IN_APROVADO_CN|IN_APROVADO_CH|     TX_RESPOSTAS_LC|     TX_RESPOSTAS_MT|     TX_RESPOSTAS_CN|     TX_RESPOSTAS_CH|      TX_GABARITO_LC|      TX_GABARITO_MT|      TX_GABARITO_CN|      TX_GABARITO_CH|TP_STATUS_REDACAO|NU_NOTA_COMP1|NU_NOTA_COMP2|NU_NOTA_COMP3|NU_NOTA_COMP4|NU_NOTA_COMP5|NU_NOTA_REDACAO|Q01|Q02| Q03|Q04| Q05| Q06| Q07| Q08| Q09| Q10| Q11| Q12| Q13| Q14| Q15| Q16| Q17| Q18| Q19| Q20|Q21|Q22|Q23|Q24|Q25|Q26|Q27| Q28| Q29| Q30| Q31| Q32|Q33|Q34| Q35|Q36|Q37|Q38|Q39|Q40|Q41|Q42|Q43|Q44|Q45| Q46| Q47| Q48| Q49| Q50|Q51|Q52| Q53|Q54|Q55| Q56| Q57|Q58| Q59| Q60| Q61| Q62| Q63| Q64| Q65| Q66|\n",
      "+------------+------+---------------+---------------+-------+-----------+-----------+-------------------------+-----------+-----------+-----------+-----------+--------------+--------------+--------------+--------------+-----------+-----------+-----------+-----------+----------+----------+----------+----------+--------------+--------------+--------------+--------------+--------------------+--------------------+--------------------+--------------------+--------------------+--------------------+--------------------+--------------------+-----------------+-------------+-------------+-------------+-------------+-------------+---------------+---+---+----+---+----+----+----+----+----+----+----+----+----+----+----+----+----+----+----+----+---+---+---+---+---+---+---+----+----+----+----+----+---+---+----+---+---+---+---+---+---+---+---+---+---+----+----+----+----+----+---+---+----+---+---+----+----+---+----+----+----+----+----+----+----+----+\n",
      "|200001318359|  2020|              2|             16|      F|         43|         RS|     SECRETARIA DE EST...|          0|          1|          0|          1|          null|             1|          null|             1|       null|     202010|       null|     202012|      null|       101|      null|       109|          null|             1|          null|             1|                null|CDCDBCDBBCADBBCDC...|                null|BBCDAACABCBBADACC...|                null|CDADDADCDCBDCAADB...|                null|CCCDDACDBCDBAAACD...|             null|         null|         null|         null|         null|         null|           null|  B|  B|null|  A|   F|   B|   B|   A|   A|   B|   B|   B|   A|   A|   A|   B|   A|   B|   A|   B|  C|  A|  A|  A|  A|  A|  A|   A|null|null|null|null|  B|  B|null|  B|  B|  A|  A|  A|  B|  B|  A|  I|  A|   A|   A|   K|   E|   A|  C|  B|   A|  B|  E|null|null|  B|null|null|null|null|null|null|   A|   C|\n",
      "|200002815765|  2020|              2|             12|      M|         35|         SP|     SECRETARIA DE EST...|          1|          1|          1|          1|             0|             0|             0|             0|       null|       null|       null|       null|      null|      null|      null|      null|          null|          null|          null|          null|                null|                null|                null|                null|                null|                null|                null|                null|             null|         null|         null|         null|         null|         null|           null|  A|  A|   B|  A|   H|   D|   B|   B|   B|   A|   B|   A|   A|   B|   B|   B|   B|   B|   B|   B|  C|  A|  A|  A|  A|  A|  A|   B|   B|   B|   A|   B|  A|  B|null|  B|  A|  N|  A|  A|  A|  A|  A|  G|  B|null|null|null|null|null|  C|  B|   C|  B|  C|   A|   C|  B|null|null|null|null|null|null|   A|   C|\n",
      "|200002310451|  2020|              2|              8|      M|         53|         DF|     SECRETARIA DE EST...|          1|          0|          0|          0|             1|          null|          null|          null|     202011|       null|       null|       null|       137|      null|      null|      null|             1|          null|          null|          null|DDABBCDBCBABCDADA...|                null|                null|                null|DDABACCAABCABCADA...|                null|                null|                null|                1|          1.4|          1.6|            1|          1.2|          1.8|              7|  D|  B|null|  A|   J|   D|   B|   B|   B|   B|   B|   B|   B|   B|   B|   A|   B|   A|   B|   A|  C|  B|  A|  A|  A|  A|  A|   A|null|null|null|null|  A|  B|null|  B|  B|  O|  B|  B|  B|  B|  B|  N|  B|null|null|null|null|null|  C|  B|   C|  B|  D|null|null|  A|   A|   A|   A|   B|   A|   B|null|null|\n",
      "|200001895444|  2020|              2|             11|      F|         13|         AM|     SECRETARIA DE EST...|          1|          1|          0|          0|             0|             0|          null|          null|       null|       null|       null|       null|      null|      null|      null|      null|          null|          null|          null|          null|                null|                null|                null|                null|                null|                null|                null|                null|             null|         null|         null|         null|         null|         null|           null|  A|  B|null|  A|   I|   D|   B|   B|   B|   B|   A|   B|   B|   B|   B|   B|   B|   B|   B|   B|  C|  B|  B|  B|  A|  A|  A|   B|   A|   B|null|   B|  A|  B|null|  B|  A|  O|  A|  A|  B|  B|  A|  O|  B|null|null|null|null|null|  C|  B|   B|  B|  A|   C|   C|  A|   B|   B|   A|   B|   A|   A|null|null|\n",
      "|200002181288|  2020|              2|             13|      M|         35|         SP|     SECRETARIA DE EST...|          1|          1|          1|          1|             1|             1|             1|             1|     202011|     202010|     202009|     202012|       116|       136|       151|       139|             1|             1|             1|             1|DDCBCCBACCAAAAADA...|CDBDCDDCCDBDCCACB...|CBCABDADCDABDCCAA...|CACDADCDBCBBACACD...|DDABACCAABCABCADA...|CDADDADCDCBDCAADB...|CBCABDADCDABDCCBA...|CCCDDACDBCDBAAACD...|                1|          1.4|          1.4|          1.4|          1.6|          1.6|            7.4|  D|  B|null|  A|   E|   B|   B|   B|   B|   A|   B|   B|   B|   B|   B|   B|   B|   B|   B|   B|  C|  B|  B|  A|  A|  A|  A|   A|null|null|null|null|  B|  B|null|  B|  A|  F|  B|  B|  B|  B|  A|  G|  B|null|null|null|null|null|  C|  B|   B|  B|  B|null|null|  A|   A|   B|   A|   B|   B|   E|null|null|\n",
      "|200001911398|  2020|              2|             11|      F|         52|         GO|     INSTITUTO FEDERAL...|          1|          1|          1|          1|             0|             0|             0|             0|       null|       null|       null|       null|      null|      null|      null|      null|          null|          null|          null|          null|                null|                null|                null|                null|                null|                null|                null|                null|             null|         null|         null|         null|         null|         null|           null|  A|  B|null|  A|   I|   C|   B|   B|   B|   A|   B|   A|   A|   B|   B|   B|   B|   B|   B|   B|  C|  A|  A|  A|  A|  A|  A|   B|   B|   B|   B|   B|  B|  B|null|  B|  B|  P|  A|  B|  B|  B|  A|  K|  B|null|null|null|null|null|  B|  B|   A|  B|  A|   A|   B|  A|   A|   B|   A|   A|   A|   D|null|null|\n",
      "|200001238196|  2020|              2|             13|      M|         53|         DF|     SECRETARIA DE EST...|          0|          0|          1|          0|          null|          null|             0|          null|       null|       null|       null|       null|      null|      null|      null|      null|          null|          null|          null|          null|                null|                null|                null|                null|                null|                null|                null|                null|             null|         null|         null|         null|         null|         null|           null|  A|  B|null|  C|null|null|null|null|null|null|null|null|null|null|null|null|null|null|null|null|  C|  A|  A|  A|  A|  A|  A|   A|null|null|null|null|  A|  A|   A|  A|  A|  A|  A|  A|  A|  A|  A|  A|  B|null|null|null|null|null|  G|  B|   B|  B|  D|null|null|  A|   A|   A|   A|   A|   A|   D|null|null|\n",
      "|200002410440|  2020|              2|              9|      M|         35|         SP|     INSTITUTO FEDERAL...|          1|          1|          1|          1|             0|             0|             0|             0|       null|       null|       null|       null|      null|      null|      null|      null|          null|          null|          null|          null|                null|                null|                null|                null|                null|                null|                null|                null|             null|         null|         null|         null|         null|         null|           null|  D|  B|null|  A|   K|   C|   B|   B|   B|   B|   B|   B|   A|   B|   B|   B|   B|   A|   B|   B|  C|  A|  A|  A|  A|  A|  A|   B|   B|   B|   B|   B|  A|  B|null|  B|  B|  O|  A|  B|  B|  B|  B|  O|  A|   A|   A|   O|   C|   A|  B|  A|null|  B|  A|   A|   A|  A|   A|   A|   A|   A|   A|   B|null|null|\n",
      "|200001398509|  2020|              2|             12|      M|         35|         SP|     SECRETARIA DE EST...|          1|          1|          1|          1|             0|             0|             0|             0|       null|       null|       null|       null|      null|      null|      null|      null|          null|          null|          null|          null|                null|                null|                null|                null|                null|                null|                null|                null|             null|         null|         null|         null|         null|         null|           null|  A|  A|   A|  A|   J|   D|   B|   B|   B|   A|   B|   B|   B|   B|   B|   B|   B|   A|   B|   A|  C|  A|  A|  B|  A|  A|  B|   A|null|null|null|null|  B|  B|null|  B|  A|  O|  B|  B|  B|  B|  A|  O|  A|   A|   A|   O|   G|   B|  C|  B|   C|  B|  D|null|null|  A|   A|   B|   A|   B|   A|   A|null|null|\n",
      "|200001769228|  2020|              2|             15|      F|         32|         ES|     INSTITUTO FEDERAL...|          1|          0|          0|          0|             0|          null|          null|          null|       null|       null|       null|       null|      null|      null|      null|      null|          null|          null|          null|          null|                null|                null|                null|                null|                null|                null|                null|                null|             null|         null|         null|         null|         null|         null|           null|  D|  A|   A|  A|   E|   C|   B|   B|   B|   A|   A|   B|   B|   B|   B|   B|   B|   B|   B|   B|  C|  A|  A|  A|  A|  A|  A|   A|null|null|null|null|  A|  A|   A|  B|  A|  B|  A|  B|  B|  B|  A|  G|  B|null|null|null|null|null|  B|  B|   B|  B|  A|   B|   C|  A|   A|   A|   A|   A|   A|   C|null|null|\n",
      "|200002041244|  2020|              2|              7|      F|         35|         SP|     SECRETARIA DE EST...|          0|          1|          0|          0|          null|             0|          null|          null|       null|       null|       null|       null|      null|      null|      null|      null|          null|          null|          null|          null|                null|                null|                null|                null|                null|                null|                null|                null|             null|         null|         null|         null|         null|         null|           null|  D|  A|   A|  A|   I|   D|   B|   B|   B|   A|   B|   B|   A|   B|   A|   B|   B|   B|   B|   B|  C|  A|  A|  A|  A|  A|  A|null|null|null|null|   A|  A|  A|   A|  B|  B|  N|  B|  B|  B|  B|  B|  G|  A|   A|   A|   J|   F|   A|  B|  A|null|  A|  A|   A|   A|  A|   A|   A|   A|   A|   A|   A|null|null|\n",
      "|200002999228|  2020|              2|              5|      M|         50|         MS|     SECRETARIA DE EST...|          0|          1|          0|          0|          null|             0|          null|          null|       null|       null|       null|       null|      null|      null|      null|      null|          null|          null|          null|          null|                null|                null|                null|                null|                null|                null|                null|                null|             null|         null|         null|         null|         null|         null|           null|  D|  B|null|  A|   G|   C|   B|   B|   B|   B|   B|   B|   A|   B|   A|   B|   B|   B|   B|   B|  C|  A|  A|  A|  A|  A|  A|   A|null|null|null|null|  B|  B|null|  B|  A|  E|  A|  A|  A|  A|  A|  J|  B|null|null|null|null|null|  B|  B|   B|  B|  A|   C|   C|  A|   A|   A|   A|   A|   A|   A|null|null|\n",
      "|200002032618|  2020|              2|             10|      F|         52|         GO|     SECRETARIA DE EST...|          0|          0|          0|          1|          null|          null|          null|             1|       null|       null|       null|     202012|      null|      null|      null|       141|          null|          null|          null|             1|                null|                null|                null|CCCDDACDDCDBABCCD...|                null|                null|                null|CCCDDACDBCDBAAACD...|             null|         null|         null|         null|         null|         null|           null|  A|  A|   C|  A|   I|   C|   B|   B|   B|   A|   A|   A|   B|   B|   B|   B|   B|   B|   B|   B|  C|  B|  A|  B|  B|  A|  A|   A|null|null|null|null|  A|  B|null|  B|  A|  F|  A|  A|  A|  A|  A|  I|  B|null|null|null|null|null|  C|  B|   C|  B|  B|null|null|  A|   A|   B|   A|   A|   A|   B|null|null|\n",
      "|200001238542|  2020|              2|             14|      F|         35|         SP|     SECRETARIA DE EST...|          0|          1|          0|          0|          null|             1|          null|          null|       null|     202010|       null|       null|      null|       141|      null|      null|          null|             1|          null|          null|                null|CDDDDDDCCCCDCACBB...|                null|                null|                null|CDADDADCDCBDCAADB...|                null|                null|             null|         null|         null|         null|         null|         null|           null|  C|  A|   A|  A|   I|   D|   B|   B|   B|   A|   B|   B|   B|   B|   B|   B|   B|   B|   B|   B|  C|  A|  A|  A|  A|  A|  A|   B|   B|   B|   B|   B|  B|  B|null|  B|  A|  N|  B|  B|  B|  B|  A|  O|  B|null|null|null|null|null|  C|  B|   A|  B|  D|null|null|  A|   A|   B|   A|   B|   A|   B|null|null|\n",
      "|200002494873|  2020|              2|             11|      F|         32|         ES|     INSTITUTO FEDERAL...|          1|          1|          1|          1|             0|             0|             0|             0|       null|       null|       null|       null|      null|      null|      null|      null|          null|          null|          null|          null|                null|                null|                null|                null|                null|                null|                null|                null|             null|         null|         null|         null|         null|         null|           null|  D|  A|   A|  A|   J|   D|   B|   B|   B|   A|   A|   A|   A|   A|   B|   B|   B|   B|   B|   B|  C|  A|  A|  A|  A|  A|  A|   A|null|null|null|null|  A|  B|null|  B|  A|  O|  B|  B|  B|  B|  A|  G|  A|   B|   A|   J|   F|   A|  B|  A|null|  B|  D|null|null|  A|   A|   A|   A|   A|   A|   D|null|null|\n",
      "|200001908628|  2020|              2|              7|      F|         53|         DF|     INSTITUTO FEDERAL...|          1|          1|          1|          1|             0|             0|             0|             0|       null|       null|       null|       null|      null|      null|      null|      null|          null|          null|          null|          null|                null|                null|                null|                null|                null|                null|                null|                null|             null|         null|         null|         null|         null|         null|           null|  D|  B|null|  A|   J|   D|   B|   B|   B|   A|   B|   A|   B|   B|   B|   A|   B|   B|   B|   A|  C|  A|  A|  A|  A|  A|  A|   A|null|null|null|null|  B|  B|null|  B|  B|  O|  A|  A|  A|  B|  A|  O|  B|null|null|null|null|null|  C|  B|   C|  B|  B|null|null|  A|   A|   A|   A|   A|   A|   B|null|null|\n",
      "|200001244417|  2020|              2|             11|      M|         41|         PR|     SECRETARIA DE EST...|          1|          1|          1|          1|             1|             1|             1|             1|     202011|     202010|     202009|     202012|       100|        99|       132|       105|             0|             0|             1|             1|DDBCDBDADAACCDDCB...|AACBDDDCAACDACCBB...|CBACADADCDABDBCAA...|BBCDBDCDDCCDADBCC...|DDABACCAABCABCADA...|CDADDADCDCBDCAADB...|CBCABDADCDABDCCBA...|CCCDDACDBCDBAAACD...|                1|          1.2|          0.8|            1|            1|            0|              4|  A|  A|   A|  A|   I|   D|   B|   B|   B|   B|   A|   A|   B|   B|   B|   B|   B|   B|   B|   B|  C|  A|  A|  A|  A|  A|  A|   B|   B|   B|   B|   B|  A|  B|null|  B|  B|  C|  A|  B|  A|  A|  B|  G|  B|null|null|null|null|null|  C|  B|   B|  B|  C|   C|   C|  A|   B|   B|   A|   B|   A|   A|null|null|\n",
      "|200001376532|  2020|              2|              6|      F|         33|         RJ|     SECRETARIA DE EST...|          1|          0|          0|          0|             1|          null|          null|          null|     202011|       null|       null|       null|       126|      null|      null|      null|             1|          null|          null|          null|DBABDCBAABBBACADB...|                null|                null|                null|DDABACCAABCABCADA...|                null|                null|                null|                1|          1.4|            2|          1.6|          1.6|          0.6|            7.2|  D|  A|   A|  B|null|null|null|null|null|null|null|null|null|null|null|null|null|null|null|null|  C|  B|  A|  A|  A|  A|  A|   A|null|null|null|null|  B|  B|null|  B|  B|  D|  A|  B|  B|  B|  B|  O|  B|null|null|null|null|null|  B|  B|   B|  B|  D|null|null|  A|   A|   A|   A|   B|   A|   E|null|null|\n",
      "|200001242284|  2020|              2|             14|      F|         31|         MG|     SECRETARIA DE EST...|          0|          1|          0|          0|          null|             1|          null|          null|       null|     202010|       null|       null|      null|       108|      null|      null|          null|             1|          null|          null|                null|CBBDBDDCADADCCADD...|                null|                null|                null|CDADDADCDCBDCAADB...|                null|                null|             null|         null|         null|         null|         null|         null|           null|  A|  A|   B|  A|   E|   C|   B|   A|   B|   A|   A|   A|   B|   B|   B|   B|   B|   B|   B|   B|  C|  A|  A|  A|  A|  A|  A|   A|null|null|null|null|  B|  B|null|  B|  A|  O|  B|  B|  B|  B|  B|  G|  B|null|null|null|null|null|  C|  B|   B|  B|  D|null|null|  A|   A|   A|   A|   A|   A|   D|null|null|\n",
      "|200001860368|  2020|              2|             12|      F|         50|         MS|     INSTITUTO FEDERAL...|          0|          1|          0|          0|          null|             0|          null|          null|       null|       null|       null|       null|      null|      null|      null|      null|          null|          null|          null|          null|                null|                null|                null|                null|                null|                null|                null|                null|             null|         null|         null|         null|         null|         null|           null|  D|  A|   C|  A|   F|   D|   B|   A|   B|   A|   B|   A|   A|   B|   B|   B|   B|   B|   B|   B|  C|  A|  A|  A|  A|  A|  A|   A|null|null|null|null|  B|  B|null|  B|  B|  P|  B|  B|  B|  B|  B|  O|  A|   B|   E|   O|   G|   A|  B|  B|   C|  B|  D|null|null|  A|   A|   B|   A|   A|   A|   B|null|null|\n",
      "+------------+------+---------------+---------------+-------+-----------+-----------+-------------------------+-----------+-----------+-----------+-----------+--------------+--------------+--------------+--------------+-----------+-----------+-----------+-----------+----------+----------+----------+----------+--------------+--------------+--------------+--------------+--------------------+--------------------+--------------------+--------------------+--------------------+--------------------+--------------------+--------------------+-----------------+-------------+-------------+-------------+-------------+-------------+---------------+---+---+----+---+----+----+----+----+----+----+----+----+----+----+----+----+----+----+----+----+---+---+---+---+---+---+---+----+----+----+----+----+---+---+----+---+---+---+---+---+---+---+---+---+---+----+----+----+----+----+---+---+----+---+---+----+----+---+----+----+----+----+----+----+----+----+\n",
      "only showing top 20 rows\n",
      "\n"
     ]
    }
   ],
   "source": [
    "#Abrindo o arquivo csv e atribuindo a uma variável\n",
    "\n",
    "enceja2020 = spark.read.csv (\"/Users/mayaraevillyn/Downloads/enceja2020.CSV\", header = True) \n",
    "enceja2020.show()"
   ]
  },
  {
   "cell_type": "code",
   "execution_count": 6,
   "id": "5d34a0bb",
   "metadata": {},
   "outputs": [
    {
     "name": "stderr",
     "output_type": "stream",
     "text": [
      "[Stage 4:>                                                          (0 + 1) / 1]\r"
     ]
    },
    {
     "name": "stdout",
     "output_type": "stream",
     "text": [
      "+------------+------+---------------+---------------+-------+-----------+-----------+-------------------------+-----------+-----------+-----------+-----------+--------------+--------------+--------------+--------------+-----------+-----------+-----------+-----------+----------+----------+----------+----------+--------------+--------------+--------------+--------------+--------------------+--------------------+--------------------+--------------------+--------------------+--------------------+--------------------+--------------------+-----------------+-------------+-------------+-------------+-------------+-------------+---------------+---+---+----+---+----+----+----+----+----+----+----+----+----+----+----+----+----+----+----+----+---+---+---+---+---+---+---+----+----+----+----+----+----+----+----+----+----+----+----+----+----+----+----+----+----+----+----+----+----+----+----+----+----+----+----+----+----+----+----+----+----+----+----+----+----+----+\n",
      "|NU_INSCRICAO|NU_ANO|TP_CERTIFICACAO|TP_FAIXA_ETARIA|TP_SEXO|CO_UF_PROVA|SG_UF_PROVA|NO_ENTIDADE_CERTIFICADORA|IN_PROVA_LC|IN_PROVA_MT|IN_PROVA_CN|IN_PROVA_CH|TP_PRESENCA_LC|TP_PRESENCA_MT|TP_PRESENCA_CN|TP_PRESENCA_CH|CO_PROVA_LC|CO_PROVA_MT|CO_PROVA_CN|CO_PROVA_CH|NU_NOTA_LC|NU_NOTA_MT|NU_NOTA_CN|NU_NOTA_CH|IN_APROVADO_LC|IN_APROVADO_MT|IN_APROVADO_CN|IN_APROVADO_CH|     TX_RESPOSTAS_LC|     TX_RESPOSTAS_MT|     TX_RESPOSTAS_CN|     TX_RESPOSTAS_CH|      TX_GABARITO_LC|      TX_GABARITO_MT|      TX_GABARITO_CN|      TX_GABARITO_CH|TP_STATUS_REDACAO|NU_NOTA_COMP1|NU_NOTA_COMP2|NU_NOTA_COMP3|NU_NOTA_COMP4|NU_NOTA_COMP5|NU_NOTA_REDACAO|Q01|Q02| Q03|Q04| Q05| Q06| Q07| Q08| Q09| Q10| Q11| Q12| Q13| Q14| Q15| Q16| Q17| Q18| Q19| Q20|Q21|Q22|Q23|Q24|Q25|Q26|Q27| Q28| Q29| Q30| Q31| Q32| Q33| Q34| Q35| Q36| Q37| Q38| Q39| Q40| Q41| Q42| Q43| Q44| Q45| Q46| Q47| Q48| Q49| Q50| Q51| Q52| Q53| Q54| Q55| Q56| Q57| Q58| Q59| Q60| Q61| Q62| Q63| Q64| Q65| Q66|\n",
      "+------------+------+---------------+---------------+-------+-----------+-----------+-------------------------+-----------+-----------+-----------+-----------+--------------+--------------+--------------+--------------+-----------+-----------+-----------+-----------+----------+----------+----------+----------+--------------+--------------+--------------+--------------+--------------------+--------------------+--------------------+--------------------+--------------------+--------------------+--------------------+--------------------+-----------------+-------------+-------------+-------------+-------------+-------------+---------------+---+---+----+---+----+----+----+----+----+----+----+----+----+----+----+----+----+----+----+----+---+---+---+---+---+---+---+----+----+----+----+----+----+----+----+----+----+----+----+----+----+----+----+----+----+----+----+----+----+----+----+----+----+----+----+----+----+----+----+----+----+----+----+----+----+----+\n",
      "|200002243837|  2020|              2|             12|      F|         23|         CE|     SECRETARIA DE EST...|          1|          1|          0|          0|             1|             1|          null|          null|     202011|     202010|       null|       null|       103|       106|      null|      null|             1|             1|          null|          null|DDABDADCAACBCDADD...|CADDCDDDACBDBABAD...|                null|                null|DDABACCAABCABCADA...|CDADDADCDCBDCAADB...|                null|                null|                1|            1|          1.4|          1.2|          1.4|          1.6|            6.6|  D|  A|   B|  A|   G|   D|null|null|null|null|null|null|   B|null|   B|null|null|null|null|null|  B|  B|  B|  B|  A|  A|  B|   A|null|null|null|null|null|null|null|null|null|null|null|null|null|null|null|null|null|null|null|null|null|null|null|null|null|null|null|null|null|null|null|null|null|null|null|null|null|null|\n",
      "|200001939597|  2020|              2|             13|      F|         42|         SC|     INSTITUTO FEDERAL...|          1|          1|          1|          1|             1|             1|             1|             1|     202011|     202010|     202009|     202012|       142|       123|       146|       127|             1|             1|             1|             1|DDABACDCAAAACDADA...|CCCADADCDAADDCCAB...|ABCAADADCDABDCCCA...|CACDDCCAACBBABACD...|DDABACCAABCABCADA...|CDADDADCDCBDCAADB...|CBCABDADCDABDCCBA...|CCCDDACDBCDBAAACD...|                1|          1.2|          1.4|          1.4|          1.6|          1.6|            7.2|  A|  A|   B|  A|   J|   D|   B|   A|   A|   A|   A|   A|   B|   B|   B|   B|   B|   B|   B|   B|  C|  A|  A|  A|  A|  A|  A|   A|null|null|null|null|   A|   B|null|   B|   A|   G|   A|   B|   B|   B|   B|   G|   A|   A|   D|   H|   C|   B|   C|   B|   C|   B|   D|null|null|   A|   B|   B|   A|   A|   A|   A|null|null|\n",
      "|200002279925|  2020|              2|              5|      F|         42|         SC|     INSTITUTO FEDERAL...|          1|          0|          1|          1|             0|          null|             0|             0|       null|       null|       null|       null|      null|      null|      null|      null|          null|          null|          null|          null|                null|                null|                null|                null|                null|                null|                null|                null|             null|         null|         null|         null|         null|         null|           null|  D|  B|null|  A|   J|   D|   B|   B|   B|   A|   B|   B|   B|   B|   B|   B|   B|   B|   B|   B|  C|  A|  A|  A|  A|  A|  A|null|null|null|null|   A|   A|   B|null|   B|   B|   O|   B|   B|   B|   B|   B|   G|   A|   B|   C|   K|   A|   A|   B|   A|null|   B|   A|   A|   B|   A|   A|   B|   A|   B|   A|   E|null|null|\n",
      "|200001321976|  2020|              2|             12|      M|         42|         SC|     INSTITUTO FEDERAL...|          1|          0|          0|          0|             1|          null|          null|          null|     202011|       null|       null|       null|       108|      null|      null|      null|             1|          null|          null|          null|DCABACBDBAADADADC...|                null|                null|                null|DDABACCAABCABCADA...|                null|                null|                null|                1|          1.2|          1.6|          1.4|            2|            2|            8.2|  A|  A|   B|  C|null|null|null|null|null|null|null|null|null|null|null|null|null|null|null|null|  C|  A|  A|  A|  A|  A|  A|   B|   B|   B|   B|   B|   A|   B|null|   B|   B|   F|   A|   B|   B|   B|   B|   G|   A|   A|   A|   H|   G|   B|   C|   B|   C|   B|   C|   A|   C|   A|   B|   B|   A|   A|   A|   D|null|null|\n",
      "|200002841885|  2020|              2|              7|      M|         42|         SC|     INSTITUTO FEDERAL...|          1|          0|          0|          0|             0|          null|          null|          null|       null|       null|       null|       null|      null|      null|      null|      null|          null|          null|          null|          null|                null|                null|                null|                null|                null|                null|                null|                null|             null|         null|         null|         null|         null|         null|           null|  C|  B|null|  A|   I|   C|   B|   B|   B|   B|   B|   B|   B|   B|   B|   B|   B|   B|   B|   B|  C|  A|  A|  A|  A|  A|  A|   A|null|null|null|null|   A|   B|null|   B|   A|   N|   B|   B|   B|   B|   A|   N|   A|   B|   E|   N|   B|   B|   C|   B|   B|   B|   A|   A|   C|   A|   A|   A|   A|   B|   A|   B|null|null|\n",
      "|200002354470|  2020|              2|              6|      M|         42|         SC|     INSTITUTO FEDERAL...|          1|          1|          1|          1|             0|             0|             0|             0|       null|       null|       null|       null|      null|      null|      null|      null|          null|          null|          null|          null|                null|                null|                null|                null|                null|                null|                null|                null|             null|         null|         null|         null|         null|         null|           null|  A|  B|null|  A|   I|   C|   B|   B|   B|   A|   B|   B|   B|   B|   B|   B|   B|   B|   B|   B|  C|  A|  A|  A|  A|  A|  A|   B|   B|   B|   B|   B|   A|   B|null|   B|   B|   A|   B|   B|   B|   B|   A|   P|   B|null|null|null|null|null|   C|   B|   B|   B|   D|null|null|   A|   B|   B|   A|   B|   A|   A|null|null|\n",
      "|200002973048|  2020|              2|              7|      F|         42|         SC|     INSTITUTO FEDERAL...|          1|          1|          1|          1|             0|             0|             0|             0|       null|       null|       null|       null|      null|      null|      null|      null|          null|          null|          null|          null|                null|                null|                null|                null|                null|                null|                null|                null|             null|         null|         null|         null|         null|         null|           null|  C|  A|   A|  A|   I|   C|   B|   A|   B|   A|   B|   A|   A|   A|   B|   B|   B|   B|   B|   A|  C|  A|  A|  A|  A|  A|  A|null|null|null|null|   A|   A|   B|null|   B|   B|   D|   B|   B|   B|   B|   B|   O|   A|   A|   A|   C|   G|   B|   D|   A|null|   B|   A|   A|   C|   A|   A|   B|   A|   A|   A|   E|null|null|\n",
      "|200001360743|  2020|              2|             10|      F|         42|         SC|     INSTITUTO FEDERAL...|          0|          0|          0|          1|          null|          null|          null|             1|       null|       null|       null|     202012|      null|      null|      null|       114|          null|          null|          null|             1|                null|                null|                null|BBBDDBCABCDBAACCD...|                null|                null|                null|CCCDDACDBCDBAAACD...|             null|         null|         null|         null|         null|         null|           null|  D|  A|   A|  A|   G|   B|   B|   A|   B|   A|   B|   A|   A|   A|   B|   B|   B|   B|   B|   B|  C|  A|  A|  A|  A|  A|  A|   A|null|null|null|null|   A|   B|null|   B|   A|   A|   A|   A|   A|   B|   B|   A|   A|   A|   C|   K|   B|   A|   B|   B|   B|   B|   B|null|null|   A|   B|   B|   A|   B|   A|   B|null|null|\n",
      "|200003154329|  2020|              2|             15|      F|         42|         SC|     INSTITUTO FEDERAL...|          1|          1|          1|          0|             0|             0|             0|          null|       null|       null|       null|       null|      null|      null|      null|      null|          null|          null|          null|          null|                null|                null|                null|                null|                null|                null|                null|                null|             null|         null|         null|         null|         null|         null|           null|  B|  A|   B|  A|   H|   C|   B|   B|   B|   A|   B|   B|   B|   B|   B|   B|   B|   B|   B|   B|  C|  A|  A|  A|  A|  A|  A|   A|null|null|null|null|   A|   A|   A|   B|   A|   O|   A|   A|   A|   B|   A|   G|   B|null|null|null|null|null|   C|   B|   B|   B|   A|   A|   B|   A|   A|   B|   A|   B|   A|   D|null|null|\n",
      "|200003046112|  2020|              2|              4|      M|         42|         SC|     INSTITUTO FEDERAL...|          0|          1|          0|          0|          null|             0|          null|          null|       null|       null|       null|       null|      null|      null|      null|      null|          null|          null|          null|          null|                null|                null|                null|                null|                null|                null|                null|                null|             null|         null|         null|         null|         null|         null|           null|  D|  B|null|  A|   I|   D|   B|   B|   B|   A|   B|   B|   B|   B|   B|   B|   A|   B|   B|   B|  C|  B|  A|  A|  A|  A|  A|   B|   B|   B|   A|   B|   A|   B|null|   B|   A|   P|   A|   A|   A|   B|   A|   J|   B|null|null|null|null|null|   D|   B|   A|   B|   D|null|null|   A|   A|   B|   A|   A|   A|   E|null|null|\n",
      "|200003041333|  2020|              2|             14|      M|         42|         SC|     INSTITUTO FEDERAL...|          1|          1|          1|          1|             0|             0|             0|             0|       null|       null|       null|       null|      null|      null|      null|      null|          null|          null|          null|          null|                null|                null|                null|                null|                null|                null|                null|                null|             null|         null|         null|         null|         null|         null|           null|  C|  A|   A|  A|   I|   D|   B|   B|   B|   A|   B|   B|   A|   B|   B|   B|   B|   B|   B|   B|  C|  A|  B|  B|  A|  A|  B|   A|null|null|null|null|   A|   B|null|   B|   B|   F|   A|   A|   B|   B|   B|   F|   B|null|null|null|null|null|   C|   B|   B|   B|   A|   A|   C|   A|   A|   A|   A|   A|   A|   B|null|null|\n",
      "|200003022162|  2020|              2|             10|      F|         42|         SC|     INSTITUTO FEDERAL...|          1|          1|          1|          1|             1|             1|             1|             1|     202011|     202010|     202009|     202012|       135|       148|       149|       131|             1|             1|             1|             1|DCABDCDBBBCAADADA...|CDBDDAACCCBDCAACB...|CBCAADADDDABDCCAD...|CACDDADDDCDBAAACD...|DDABACCAABCABCADA...|CDADDADCDCBDCAADB...|CBCABDADCDABDCCBA...|CCCDDACDBCDBAAACD...|                1|          1.2|          1.2|          1.2|          1.6|          1.4|            6.6|  D|  A|   B|  A|   J|   C|   B|   B|   B|   A|   A|   A|   A|   B|   B|   B|   B|   B|   B|   B|  C|  A|  A|  A|  A|  A|  A|   A|null|null|null|null|   A|   B|null|   B|   A|   N|   A|   A|   A|   B|   A|   N|   B|null|null|null|null|null|   C|   B|   C|   B|   A|   C|   C|   A|   A|   A|   A|   A|   A|   A|null|null|\n",
      "|200001713259|  2020|              2|             11|      F|         42|         SC|     INSTITUTO FEDERAL...|          1|          1|          1|          1|             0|             0|             0|             0|       null|       null|       null|       null|      null|      null|      null|      null|          null|          null|          null|          null|                null|                null|                null|                null|                null|                null|                null|                null|             null|         null|         null|         null|         null|         null|           null|  D|  B|null|  A|   I|   D|   B|   A|   B|   A|   B|   A|   A|   B|   B|   B|   B|   B|   B|   B|  C|  B|  A|  A|  A|  A|  A|null|null|null|null|   A|   A|   B|null|   B|   B|   O|   A|   B|   B|   B|   B|   G|   A|   A|   A|   F|   G|   A|   C|   B|   A|   B|   A|   A|   C|   A|   A|   B|   A|   B|   A|   B|null|null|\n",
      "|200002628726|  2020|              2|              8|      M|         42|         SC|     INSTITUTO FEDERAL...|          1|          1|          1|          1|             1|             1|             1|             1|     202011|     202010|     202009|     202012|       124|       142|       149|       143|             1|             1|             1|             1|DCABBCCABBDBADADB...|CDDADADCCCADCDBCB...|CBBAADADCDCBDCCBA...|CACDDACDDCDBADACD...|DDABACCAABCABCADA...|CDADDADCDCBDCAADB...|CBCABDADCDABDCCBA...|CCCDDACDBCDBAAACD...|                1|          1.6|          1.6|          1.4|          1.6|          1.8|              8|  D|  A|   A|  A|   K|   D|   B|   B|   B|   A|   B|   A|   A|   B|   B|   B|   B|   B|   B|   B|  C|  A|  A|  A|  A|  A|  A|null|null|null|null|   A|   A|   A|   A|   B|   B|   P|   B|   B|   B|   B|   B|   P|   B|null|null|null|null|null|   B|   B|   B|   B|   A|   C|   C|   A|   A|   A|   A|   B|   A|   D|null|null|\n",
      "|200002915363|  2020|              2|              3|      M|         42|         SC|     INSTITUTO FEDERAL...|          1|          1|          1|          1|             1|             1|             1|             1|     202011|     202010|     202009|     202012|        93|       131|       136|       107|             0|             1|             1|             1|DBABDADACABAADDDA...|CDDACBDCBCBDDABCB...|ABAABDCDCDABDCCDA...|ACBCAACDABCBAACCD...|DDABACCAABCABCADA...|CDADDADCDCBDCAADB...|CBCABDADCDABDCCBA...|CCCDDACDBCDBAAACD...|                1|          1.2|          1.4|          1.2|          1.4|            0|            5.2|  D|  B|null|  A|   H|   D|   B|   B|   B|   A|   B|   A|   B|   B|   B|   B|   B|   B|   B|   B|  C|  A|  A|  A|  B|  A|  A|   A|null|null|null|null|   A|   B|null|   B|   B|   P|   B|   B|   B|   B|   B|   P|   B|null|null|null|null|null|   B|   B|   B|   B|   A|   C|   C|   A|   A|   A|   A|   B|   A|   D|null|null|\n",
      "|200002824584|  2020|              2|             16|      M|         42|         SC|     INSTITUTO FEDERAL...|          1|          0|          0|          0|             1|          null|          null|          null|     202011|       null|       null|       null|       108|      null|      null|      null|             1|          null|          null|          null|BDCAACDACAAACCDDB...|                null|                null|                null|DDABACCAABCABCADA...|                null|                null|                null|                1|          0.8|          1.4|          1.4|          1.2|          0.8|            5.6|  C|  A|   A|  A|   I|   C|   B|   B|   B|   A|   B|   A|   A|   B|   B|   B|   B|   B|   B|   B|  C|  A|  A|  B|  A|  A|  B|   A|null|null|null|null|   A|   B|null|   B|   B|   O|   A|   A|   B|   B|   B|   G|   A|   B|   E|   M|   E|   B|   C|   B|   B|   B|   D|null|null|   A|   A|   B|   A|   B|   A|   E|null|null|\n",
      "|200001682423|  2020|              2|             11|      F|         42|         SC|     INSTITUTO FEDERAL...|          1|          0|          0|          1|             0|          null|          null|             0|       null|       null|       null|       null|      null|      null|      null|      null|          null|          null|          null|          null|                null|                null|                null|                null|                null|                null|                null|                null|             null|         null|         null|         null|         null|         null|           null|  D|  A|   C|  A|   J|   D|   B|   B|   B|   B|   B|   B|   B|   B|   B|   B|   B|   B|   B|   B|  C|  A|  A|  A|  A|  A|  A|   A|null|null|null|null|   A|   B|null|   B|   A|   A|   B|   B|   B|   B|   A|   A|   B|null|null|null|null|null|   C|   B|   B|   B|   A|   C|   B|   B|null|null|null|null|null|null|   B|null|\n",
      "|200002126867|  2020|              2|             11|      F|         42|         SC|     INSTITUTO FEDERAL...|          1|          1|          1|          1|             1|             1|             1|             1|     202011|     202010|     202009|     202012|       146|       149|       147|       132|             1|             1|             1|             1|DDABACDADBACADADA...|CDCDAADCDCBBCDACB...|*BCAADDCCBABDCCAA...|CACDAACDDCDBADCCD...|DDABACCAABCABCADA...|CDADDADCDCBDCAADB...|CBCABDADCDABDCCBA...|CCCDDACDBCDBAAACD...|                1|          1.4|          1.6|          1.2|          1.4|            2|            7.6|  C|  A|   C|  A|   I|   C|   B|   B|   B|   A|   A|   B|   A|   B|   B|   B|   B|   B|   B|   B|  C|  B|  A|  A|  B|  A|  A|null|null|null|null|   A|   A|   B|null|   B|   B|   A|   A|   B|   B|   B|   B|   A|   A|   B|   D|   O|   E|   A|   C|   B|   B|   B|   A|   A|   A|   A|   B|   B|   A|   B|   A|   D|null|null|\n",
      "|200003189914|  2020|              2|              5|      M|         42|         SC|     INSTITUTO FEDERAL...|          1|          1|          1|          1|             1|             1|             1|             1|     202011|     202010|     202009|     202012|       127|        96|       126|       109|             1|             0|             1|             1|DDABBCBACBAADADDB...|CCCDDACCBABBDBBCA...|DBCABD.DC.AD.DCDA...|BDACBDDDDCDBADAAD...|DDABACCAABCABCADA...|CDADDADCDCBDCAADB...|CBCABDADCDABDCCBA...|CCCDDACDBCDBAAACD...|                1|          1.2|          1.4|          1.2|          1.2|          1.4|            6.4|  D|  B|null|  A|   I|   C|   B|   A|   A|   A|   B|   A|   A|   A|   B|   B|   B|   B|   B|   B|  C|  A|  A|  A|  A|  A|  A|   A|null|null|null|null|   A|   B|null|   B|   B|   N|   A|   B|   B|   B|   B|   N|   A|   A|   A|   F|   G|   A|   B|   A|null|   A|   A|   A|   A|   A|   A|   A|   A|   A|   A|   D|null|null|\n",
      "|200001556714|  2020|              2|              5|      M|         29|         BA|     INSTITUTO FEDERAL...|          1|          1|          1|          1|             1|             1|             1|             1|     202011|     202010|     202009|     202012|       117|       139|       142|       125|             1|             1|             1|             1|DCABDCDACBABADAAB...|CACADADCDCADCAACB...|CBAADDADCDABDDCAA...|CCCDDABDDDBBAADCD...|DDABACCAABCABCADA...|CDADDADCDCBDCAADB...|CBCABDADCDABDCCBA...|CCCDDACDBCDBAAACD...|                1|          1.4|          1.4|          1.6|          1.6|          1.8|            7.8|  D|  B|null|  B|null|null|null|null|null|null|null|null|null|null|null|null|null|null|null|null|  B|  A|  A|  A|  A|  A|  A|   A|null|null|null|null|   A|   B|null|   B|   A|   D|   A|   A|   A|   B|   A|   P|   B|null|null|null|null|null|   B|   B|   B|   B|   D|null|null|   A|   B|   A|   A|   A|   A|   A|null|null|\n",
      "+------------+------+---------------+---------------+-------+-----------+-----------+-------------------------+-----------+-----------+-----------+-----------+--------------+--------------+--------------+--------------+-----------+-----------+-----------+-----------+----------+----------+----------+----------+--------------+--------------+--------------+--------------+--------------------+--------------------+--------------------+--------------------+--------------------+--------------------+--------------------+--------------------+-----------------+-------------+-------------+-------------+-------------+-------------+---------------+---+---+----+---+----+----+----+----+----+----+----+----+----+----+----+----+----+----+----+----+---+---+---+---+---+---+---+----+----+----+----+----+----+----+----+----+----+----+----+----+----+----+----+----+----+----+----+----+----+----+----+----+----+----+----+----+----+----+----+----+----+----+----+----+----+----+\n",
      "only showing top 20 rows\n",
      "\n"
     ]
    },
    {
     "name": "stderr",
     "output_type": "stream",
     "text": [
      "\r",
      "                                                                                \r"
     ]
    }
   ],
   "source": [
    "# Utilizei os distincts para remover os duplicados\n",
    "\n",
    "encejadis = enceja2020.distinct()\n",
    "encejadis.show()"
   ]
  },
  {
   "cell_type": "code",
   "execution_count": 54,
   "id": "82278b82",
   "metadata": {
    "scrolled": true
   },
   "outputs": [
    {
     "data": {
      "text/plain": [
       "['NU_INSCRICAO',\n",
       " 'NU_ANO',\n",
       " 'TP_CERTIFICACAO',\n",
       " 'TP_FAIXA_ETARIA',\n",
       " 'TP_SEXO',\n",
       " 'CO_UF_PROVA',\n",
       " 'SG_UF_PROVA',\n",
       " 'NO_ENTIDADE_CERTIFICADORA',\n",
       " 'IN_PROVA_LC',\n",
       " 'IN_PROVA_MT',\n",
       " 'IN_PROVA_CN',\n",
       " 'IN_PROVA_CH',\n",
       " 'TP_PRESENCA_LC',\n",
       " 'TP_PRESENCA_MT',\n",
       " 'TP_PRESENCA_CN',\n",
       " 'TP_PRESENCA_CH',\n",
       " 'CO_PROVA_LC',\n",
       " 'CO_PROVA_MT',\n",
       " 'CO_PROVA_CN',\n",
       " 'CO_PROVA_CH',\n",
       " 'NU_NOTA_LC',\n",
       " 'NU_NOTA_MT',\n",
       " 'NU_NOTA_CN',\n",
       " 'NU_NOTA_CH',\n",
       " 'IN_APROVADO_LC',\n",
       " 'IN_APROVADO_MT',\n",
       " 'IN_APROVADO_CN',\n",
       " 'IN_APROVADO_CH',\n",
       " 'TX_RESPOSTAS_LC',\n",
       " 'TX_RESPOSTAS_MT',\n",
       " 'TX_RESPOSTAS_CN',\n",
       " 'TX_RESPOSTAS_CH',\n",
       " 'TX_GABARITO_LC',\n",
       " 'TX_GABARITO_MT',\n",
       " 'TX_GABARITO_CN',\n",
       " 'TX_GABARITO_CH',\n",
       " 'TP_STATUS_REDACAO',\n",
       " 'NU_NOTA_COMP1',\n",
       " 'NU_NOTA_COMP2',\n",
       " 'NU_NOTA_COMP3',\n",
       " 'NU_NOTA_COMP4',\n",
       " 'NU_NOTA_COMP5',\n",
       " 'NU_NOTA_REDACAO',\n",
       " 'Q01',\n",
       " 'Q02',\n",
       " 'Q03',\n",
       " 'Q04',\n",
       " 'Q05',\n",
       " 'Q06',\n",
       " 'Q07',\n",
       " 'Q08',\n",
       " 'Q09',\n",
       " 'Q10',\n",
       " 'Q11',\n",
       " 'Q12',\n",
       " 'Q13',\n",
       " 'Q14',\n",
       " 'Q15',\n",
       " 'Q16',\n",
       " 'Q17',\n",
       " 'Q18',\n",
       " 'Q19',\n",
       " 'Q20',\n",
       " 'Q21',\n",
       " 'Q22',\n",
       " 'Q23',\n",
       " 'Q24',\n",
       " 'Q25',\n",
       " 'Q26',\n",
       " 'Q27',\n",
       " 'Q28',\n",
       " 'Q29',\n",
       " 'Q30',\n",
       " 'Q31',\n",
       " 'Q32',\n",
       " 'Q33',\n",
       " 'Q34',\n",
       " 'Q35',\n",
       " 'Q36',\n",
       " 'Q37',\n",
       " 'Q38',\n",
       " 'Q39',\n",
       " 'Q40',\n",
       " 'Q41',\n",
       " 'Q42',\n",
       " 'Q43',\n",
       " 'Q44',\n",
       " 'Q45',\n",
       " 'Q46',\n",
       " 'Q47',\n",
       " 'Q48',\n",
       " 'Q49',\n",
       " 'Q50',\n",
       " 'Q51',\n",
       " 'Q52',\n",
       " 'Q53',\n",
       " 'Q54',\n",
       " 'Q55',\n",
       " 'Q56',\n",
       " 'Q57',\n",
       " 'Q58',\n",
       " 'Q59',\n",
       " 'Q60',\n",
       " 'Q61',\n",
       " 'Q62',\n",
       " 'Q63',\n",
       " 'Q64',\n",
       " 'Q65',\n",
       " 'Q66']"
      ]
     },
     "execution_count": 54,
     "metadata": {},
     "output_type": "execute_result"
    }
   ],
   "source": [
    "# Utilizei a função 'Columns' para mostrar somente os nomes das colunas da tabela\n",
    "\n",
    "enceja2020.columns"
   ]
  },
  {
   "cell_type": "code",
   "execution_count": 24,
   "id": "50563107",
   "metadata": {},
   "outputs": [
    {
     "name": "stderr",
     "output_type": "stream",
     "text": [
      "[Stage 15:===========================================>              (3 + 1) / 4]\r"
     ]
    },
    {
     "name": "stdout",
     "output_type": "stream",
     "text": [
      "+------------+------+---------------+-------+\n",
      "|NU_INSCRICAO|NU_ANO|TP_FAIXA_ETARIA|TP_SEXO|\n",
      "+------------+------+---------------+-------+\n",
      "|200001318359|  2020|             16|      F|\n",
      "|200002815765|  2020|             12|      M|\n",
      "|200002310451|  2020|              8|      M|\n",
      "|200001895444|  2020|             11|      F|\n",
      "|200002181288|  2020|             13|      M|\n",
      "|200001911398|  2020|             11|      F|\n",
      "|200001238196|  2020|             13|      M|\n",
      "|200002410440|  2020|              9|      M|\n",
      "|200001398509|  2020|             12|      M|\n",
      "|200001769228|  2020|             15|      F|\n",
      "|200002041244|  2020|              7|      F|\n",
      "|200002999228|  2020|              5|      M|\n",
      "|200002032618|  2020|             10|      F|\n",
      "|200001238542|  2020|             14|      F|\n",
      "|200002494873|  2020|             11|      F|\n",
      "|200001908628|  2020|              7|      F|\n",
      "|200001244417|  2020|             11|      M|\n",
      "|200001376532|  2020|              6|      F|\n",
      "|200001242284|  2020|             14|      F|\n",
      "|200001860368|  2020|             12|      F|\n",
      "+------------+------+---------------+-------+\n",
      "only showing top 20 rows\n",
      "\n"
     ]
    },
    {
     "name": "stderr",
     "output_type": "stream",
     "text": [
      "\r",
      "                                                                                \r"
     ]
    }
   ],
   "source": [
    "# Selecionei as colunas mais importantes e ordenei pelo o ano para melhor manipulação\n",
    "\n",
    "encejaorg= enceja2020.select(\"NU_INSCRICAO\", \"NU_ANO\", \"TP_FAIXA_ETARIA\", \"TP_SEXO\").orderBy(\"NU_ANO\")\n",
    "encejaorg.show()"
   ]
  },
  {
   "cell_type": "code",
   "execution_count": 10,
   "id": "d43dea08",
   "metadata": {},
   "outputs": [
    {
     "name": "stderr",
     "output_type": "stream",
     "text": [
      "[Stage 7:============================================>              (3 + 1) / 4]\r"
     ]
    },
    {
     "name": "stdout",
     "output_type": "stream",
     "text": [
      "+------------+------+---------------+-------+\n",
      "|NU_INSCRICAO|NU_ANO|TP_FAIXA_ETARIA|TP_SEXO|\n",
      "+------------+------+---------------+-------+\n",
      "|200001232020|  2020|             11|      M|\n",
      "|200001232021|  2020|             11|      M|\n",
      "|200001232022|  2020|             14|      M|\n",
      "|200001232023|  2020|              5|      M|\n",
      "|200001232024|  2020|             13|      M|\n",
      "|200001232026|  2020|             12|      F|\n",
      "|200001232027|  2020|              6|      M|\n",
      "|200001232028|  2020|             12|      F|\n",
      "|200001232029|  2020|             17|      F|\n",
      "|200001232030|  2020|             15|      M|\n",
      "|200001232031|  2020|             10|      F|\n",
      "|200001232032|  2020|             11|      M|\n",
      "|200001232033|  2020|              7|      F|\n",
      "|200001232034|  2020|             13|      F|\n",
      "|200001232035|  2020|             11|      M|\n",
      "|200001232036|  2020|             11|      F|\n",
      "|200001232037|  2020|              7|      M|\n",
      "|200001232038|  2020|             12|      M|\n",
      "|200001232039|  2020|              4|      F|\n",
      "|200001232040|  2020|             12|      M|\n",
      "+------------+------+---------------+-------+\n",
      "only showing top 20 rows\n",
      "\n"
     ]
    },
    {
     "name": "stderr",
     "output_type": "stream",
     "text": [
      "\r",
      "                                                                                \r"
     ]
    }
   ],
   "source": [
    "# Utilizei a variável anterior para organizá-la pelo o número de inscrição de forma crescente\n",
    "\n",
    "encejaasc = encejaorg.orderBy([\"NU_INSCRICAO\"], ascending = True).show()"
   ]
  },
  {
   "cell_type": "code",
   "execution_count": 14,
   "id": "4c71f7d1",
   "metadata": {},
   "outputs": [
    {
     "name": "stderr",
     "output_type": "stream",
     "text": [
      "[Stage 9:============================================>              (3 + 1) / 4]\r"
     ]
    },
    {
     "name": "stdout",
     "output_type": "stream",
     "text": [
      "+------------+------+---------------+-------+\n",
      "|NU_INSCRICAO|NU_ANO|TP_FAIXA_ETARIA|TP_SEXO|\n",
      "+------------+------+---------------+-------+\n",
      "|200003223210|  2020|              9|      F|\n",
      "|200003223209|  2020|              6|      F|\n",
      "|200003223208|  2020|              9|      M|\n",
      "|200003223207|  2020|             14|      M|\n",
      "|200003223206|  2020|             15|      F|\n",
      "|200003223205|  2020|             12|      M|\n",
      "|200003223204|  2020|             12|      M|\n",
      "|200003223203|  2020|              5|      F|\n",
      "|200003223200|  2020|             14|      F|\n",
      "|200003223199|  2020|              2|      M|\n",
      "|200003223198|  2020|              4|      M|\n",
      "|200003223197|  2020|              5|      F|\n",
      "|200003223196|  2020|              3|      F|\n",
      "|200003223195|  2020|             11|      M|\n",
      "|200003223194|  2020|             13|      F|\n",
      "|200003223193|  2020|             13|      M|\n",
      "|200003223191|  2020|              2|      F|\n",
      "|200003223190|  2020|              1|      M|\n",
      "|200003223189|  2020|              4|      M|\n",
      "|200003223188|  2020|             10|      F|\n",
      "+------------+------+---------------+-------+\n",
      "only showing top 20 rows\n",
      "\n"
     ]
    },
    {
     "name": "stderr",
     "output_type": "stream",
     "text": [
      "\r",
      "                                                                                \r"
     ]
    }
   ],
   "source": [
    "# Utilizei a variável anterior para organizá-la pelo o número de inscrição de forma decrescente\n",
    "\n",
    "encejadesc = encejaorg.orderBy([\"NU_INSCRICAO\"], ascending = False)\n",
    "encejadesc.show()"
   ]
  },
  {
   "cell_type": "code",
   "execution_count": null,
   "id": "bcecafdc",
   "metadata": {},
   "outputs": [],
   "source": [
    "# Abaixo segue a descrição de cada número referente da coluna faixa etária\n",
    "\n",
    "# 1\tMenor de 17 anos\n",
    "# 2\t17 anos\n",
    "# 3\t18 anos\n",
    "# 4\t19 anos\n",
    "# 5\t20 anos\n",
    "# 6\t21 anos\n",
    "# 7\t22 anos\n",
    "# 8\t23 anos\n",
    "# 9\t24 anos\n",
    "# 10\t25 anos\n",
    "# 11\tEntre 26 e 30 anos\n",
    "# 12\tEntre 31 e 35 anos\n",
    "# 13\tEntre 36 e 40 anos\n",
    "# 14\tEntre 41 e 45 anos\n",
    "# 15\tEntre 46 e 50 anos\n",
    "# 16\tEntre 51 e 55 anos\n",
    "# 17\tEntre 56 e 60 anos\n",
    "# 18\tEntre 61 e 65 anos\n",
    "# 19\tEntre 66 e 70 anos\n",
    "# 20\tMaior de 70 anos"
   ]
  },
  {
   "cell_type": "code",
   "execution_count": 29,
   "id": "2e41e9f0",
   "metadata": {},
   "outputs": [
    {
     "name": "stderr",
     "output_type": "stream",
     "text": [
      "[Stage 26:===========================================>              (3 + 1) / 4]\r"
     ]
    },
    {
     "name": "stdout",
     "output_type": "stream",
     "text": [
      "+---------------+------+\n",
      "|TP_FAIXA_ETARIA| count|\n",
      "+---------------+------+\n",
      "|              7| 71926|\n",
      "|             15| 76206|\n",
      "|             11|250496|\n",
      "|              3|136893|\n",
      "|              8| 69561|\n",
      "|             16| 41646|\n",
      "|              5| 95351|\n",
      "|             18|  5022|\n",
      "|             17| 17972|\n",
      "|              6| 82584|\n",
      "|             19|  1449|\n",
      "|              9| 66188|\n",
      "|              1| 24702|\n",
      "|             20|   436|\n",
      "|             10| 63267|\n",
      "|              4|120437|\n",
      "|             12|181716|\n",
      "|             13|146525|\n",
      "|             14|112907|\n",
      "|              2| 42557|\n",
      "+---------------+------+\n",
      "\n"
     ]
    },
    {
     "name": "stderr",
     "output_type": "stream",
     "text": [
      "\r",
      "                                                                                \r"
     ]
    }
   ],
   "source": [
    "# Foi feito a contagem de quantos participantes tem em cada faixa etária\n",
    "encefaixa = encejaorg.groupBy(\"TP_FAIXA_ETARIA\").count()\n",
    "encefaixa.show()"
   ]
  },
  {
   "cell_type": "code",
   "execution_count": 33,
   "id": "d865a98c",
   "metadata": {},
   "outputs": [
    {
     "name": "stderr",
     "output_type": "stream",
     "text": [
      "[Stage 32:===========================================>              (3 + 1) / 4]\r"
     ]
    },
    {
     "name": "stdout",
     "output_type": "stream",
     "text": [
      "+---------------+------+\n",
      "|TP_FAIXA_ETARIA| count|\n",
      "+---------------+------+\n",
      "|              9| 66188|\n",
      "|              8| 69561|\n",
      "|              7| 71926|\n",
      "|              6| 82584|\n",
      "|              5| 95351|\n",
      "|              4|120437|\n",
      "|              3|136893|\n",
      "|             20|   436|\n",
      "|              2| 42557|\n",
      "|             19|  1449|\n",
      "|             18|  5022|\n",
      "|             17| 17972|\n",
      "|             16| 41646|\n",
      "|             15| 76206|\n",
      "|             14|112907|\n",
      "|             13|146525|\n",
      "|             12|181716|\n",
      "|             11|250496|\n",
      "|             10| 63267|\n",
      "|              1| 24702|\n",
      "+---------------+------+\n",
      "\n"
     ]
    },
    {
     "name": "stderr",
     "output_type": "stream",
     "text": [
      "\r",
      "                                                                                \r"
     ]
    }
   ],
   "source": [
    "#\n",
    "encefaixacres = encefaixa.orderBy([\"TP_FAIXA_ETARIA\"], ascending = False)\n",
    "encefaixacres.show()"
   ]
  },
  {
   "cell_type": "code",
   "execution_count": 15,
   "id": "1442246f",
   "metadata": {},
   "outputs": [
    {
     "name": "stderr",
     "output_type": "stream",
     "text": [
      "[Stage 10:===========================================>              (3 + 1) / 4]\r"
     ]
    },
    {
     "name": "stdout",
     "output_type": "stream",
     "text": [
      "+------------+------+---------------+-------+\n",
      "|NU_INSCRICAO|NU_ANO|TP_FAIXA_ETARIA|TP_SEXO|\n",
      "+------------+------+---------------+-------+\n",
      "|200002028747|  2020|              1|      F|\n",
      "|200001679769|  2020|              1|      F|\n",
      "|200001272188|  2020|              1|      F|\n",
      "|200002013466|  2020|              1|      F|\n",
      "|200002207473|  2020|              1|      F|\n",
      "|200003090156|  2020|              1|      M|\n",
      "|200002130982|  2020|              1|      F|\n",
      "|200001375676|  2020|              1|      M|\n",
      "|200002886104|  2020|              1|      M|\n",
      "|200001605336|  2020|              1|      F|\n",
      "|200001572410|  2020|              1|      F|\n",
      "|200002737579|  2020|              1|      F|\n",
      "|200002062123|  2020|              1|      F|\n",
      "|200001921654|  2020|              1|      F|\n",
      "|200002225530|  2020|              1|      M|\n",
      "|200002746669|  2020|              1|      M|\n",
      "|200002988059|  2020|              1|      F|\n",
      "|200001232859|  2020|              1|      F|\n",
      "|200001564583|  2020|              1|      M|\n",
      "|200002464572|  2020|              1|      F|\n",
      "+------------+------+---------------+-------+\n",
      "only showing top 20 rows\n",
      "\n"
     ]
    },
    {
     "name": "stderr",
     "output_type": "stream",
     "text": [
      "\r",
      "                                                                                \r"
     ]
    }
   ],
   "source": [
    "# Utilizei a variável anterior para organizá-la pela faixa etária de forma crescente\n",
    "\n",
    "encejaidadecres = encejaorg.orderBy([\"TP_FAIXA_ETARIA\"], ascending = True)\n",
    "encejaidadecres.show()"
   ]
  },
  {
   "cell_type": "code",
   "execution_count": 19,
   "id": "d05e19fc",
   "metadata": {},
   "outputs": [
    {
     "name": "stderr",
     "output_type": "stream",
     "text": [
      "[Stage 14:===========================================>              (3 + 1) / 4]\r"
     ]
    },
    {
     "name": "stdout",
     "output_type": "stream",
     "text": [
      "+------------+------+---------------+-------+\n",
      "|NU_INSCRICAO|NU_ANO|TP_FAIXA_ETARIA|TP_SEXO|\n",
      "+------------+------+---------------+-------+\n",
      "|200001761626|  2020|              9|      M|\n",
      "|200001365989|  2020|              9|      F|\n",
      "|200002971477|  2020|              9|      M|\n",
      "|200001762274|  2020|              9|      F|\n",
      "|200001614749|  2020|              9|      M|\n",
      "|200001447046|  2020|              9|      M|\n",
      "|200002804847|  2020|              9|      M|\n",
      "|200002410440|  2020|              9|      M|\n",
      "|200002799951|  2020|              9|      F|\n",
      "|200002530525|  2020|              9|      M|\n",
      "|200002200674|  2020|              9|      M|\n",
      "|200002789086|  2020|              9|      M|\n",
      "|200002006839|  2020|              9|      M|\n",
      "|200002436858|  2020|              9|      F|\n",
      "|200001693431|  2020|              9|      M|\n",
      "|200001921079|  2020|              9|      M|\n",
      "|200002003405|  2020|              9|      M|\n",
      "|200002328396|  2020|              9|      F|\n",
      "|200002492265|  2020|              9|      F|\n",
      "|200002089551|  2020|              9|      F|\n",
      "+------------+------+---------------+-------+\n",
      "only showing top 20 rows\n",
      "\n"
     ]
    },
    {
     "name": "stderr",
     "output_type": "stream",
     "text": [
      "\r",
      "                                                                                \r"
     ]
    }
   ],
   "source": [
    "# Utilizei a variável anterior para organizá-la pela faixa etária de forma decrescente\n",
    "\n",
    "encejaidadedecres = encejaorg.orderBy([\"TP_FAIXA_ETARIA\"], ascending = False)\n",
    "encejaidadedecres.show()"
   ]
  },
  {
   "cell_type": "code",
   "execution_count": 27,
   "id": "035252bc",
   "metadata": {},
   "outputs": [
    {
     "name": "stderr",
     "output_type": "stream",
     "text": [
      "[Stage 23:===========================================>              (3 + 1) / 4]\r"
     ]
    },
    {
     "name": "stdout",
     "output_type": "stream",
     "text": [
      "+-------+------+\n",
      "|TP_SEXO| count|\n",
      "+-------+------+\n",
      "|      F|878855|\n",
      "|      M|728986|\n",
      "+-------+------+\n",
      "\n"
     ]
    },
    {
     "name": "stderr",
     "output_type": "stream",
     "text": [
      "\r",
      "                                                                                \r"
     ]
    }
   ],
   "source": [
    "# Foi feito a contagem de quantas mulheres e quantos homens participaram\n",
    "encejamf = encejaorg.groupBy(\"TP_SEXO\").count()\n",
    "encejamf.show()"
   ]
  },
  {
   "cell_type": "code",
   "execution_count": 9,
   "id": "1c86adde",
   "metadata": {},
   "outputs": [],
   "source": [
    "ence2020 = enceja2020.select(\"NU_INSCRICAO\", \"NU_ANO\", \"TP_FAIXA_ETARIA\", \"TP_SEXO\", \"CO_UF_PROVA\", \"SG_UF_PROVA\", \"NO_ENTIDADE_CERTIFICADORA\")"
   ]
  },
  {
   "cell_type": "code",
   "execution_count": 14,
   "id": "a074b705",
   "metadata": {},
   "outputs": [],
   "source": [
    "ence20 = ence2020.na.drop(how=\"any\")"
   ]
  },
  {
   "cell_type": "code",
   "execution_count": 8,
   "id": "e004b66a",
   "metadata": {},
   "outputs": [
    {
     "name": "stdout",
     "output_type": "stream",
     "text": [
      "+------------+------+---------------+-------+-----------+-----------+-------------------------+\n",
      "|NU_INSCRICAO|NU_ANO|TP_FAIXA_ETARIA|TP_SEXO|CO_UF_PROVA|SG_UF_PROVA|NO_ENTIDADE_CERTIFICADORA|\n",
      "+------------+------+---------------+-------+-----------+-----------+-------------------------+\n",
      "|200001318359|  2020|             16|      F|         43|         RS|     SECRETARIA DE EST...|\n",
      "|200002815765|  2020|             12|      M|         35|         SP|     SECRETARIA DE EST...|\n",
      "|200002310451|  2020|              8|      M|         53|         DF|     SECRETARIA DE EST...|\n",
      "|200001895444|  2020|             11|      F|         13|         AM|     SECRETARIA DE EST...|\n",
      "|200002181288|  2020|             13|      M|         35|         SP|     SECRETARIA DE EST...|\n",
      "|200001911398|  2020|             11|      F|         52|         GO|     INSTITUTO FEDERAL...|\n",
      "|200001238196|  2020|             13|      M|         53|         DF|     SECRETARIA DE EST...|\n",
      "|200002410440|  2020|              9|      M|         35|         SP|     INSTITUTO FEDERAL...|\n",
      "|200001398509|  2020|             12|      M|         35|         SP|     SECRETARIA DE EST...|\n",
      "|200001769228|  2020|             15|      F|         32|         ES|     INSTITUTO FEDERAL...|\n",
      "|200002041244|  2020|              7|      F|         35|         SP|     SECRETARIA DE EST...|\n",
      "|200002999228|  2020|              5|      M|         50|         MS|     SECRETARIA DE EST...|\n",
      "|200002032618|  2020|             10|      F|         52|         GO|     SECRETARIA DE EST...|\n",
      "|200001238542|  2020|             14|      F|         35|         SP|     SECRETARIA DE EST...|\n",
      "|200002494873|  2020|             11|      F|         32|         ES|     INSTITUTO FEDERAL...|\n",
      "|200001908628|  2020|              7|      F|         53|         DF|     INSTITUTO FEDERAL...|\n",
      "|200001244417|  2020|             11|      M|         41|         PR|     SECRETARIA DE EST...|\n",
      "|200001376532|  2020|              6|      F|         33|         RJ|     SECRETARIA DE EST...|\n",
      "|200001242284|  2020|             14|      F|         31|         MG|     SECRETARIA DE EST...|\n",
      "|200001860368|  2020|             12|      F|         50|         MS|     INSTITUTO FEDERAL...|\n",
      "+------------+------+---------------+-------+-----------+-----------+-------------------------+\n",
      "only showing top 20 rows\n",
      "\n"
     ]
    }
   ],
   "source": [
    "ence2020.show()"
   ]
  },
  {
   "cell_type": "code",
   "execution_count": 12,
   "id": "ff1123f2",
   "metadata": {},
   "outputs": [
    {
     "name": "stderr",
     "output_type": "stream",
     "text": [
      "                                                                                \r"
     ]
    },
    {
     "data": {
      "text/plain": [
       "1607841"
      ]
     },
     "execution_count": 12,
     "metadata": {},
     "output_type": "execute_result"
    }
   ],
   "source": [
    "ence2020.count()"
   ]
  },
  {
   "cell_type": "code",
   "execution_count": 15,
   "id": "4a4b7eda",
   "metadata": {},
   "outputs": [
    {
     "name": "stderr",
     "output_type": "stream",
     "text": [
      "                                                                                \r"
     ]
    },
    {
     "data": {
      "text/plain": [
       "1607841"
      ]
     },
     "execution_count": 15,
     "metadata": {},
     "output_type": "execute_result"
    }
   ],
   "source": [
    "ence20.count()"
   ]
  },
  {
   "cell_type": "code",
   "execution_count": 5,
   "id": "e44e0eb8",
   "metadata": {},
   "outputs": [],
   "source": [
    "encejafilt = enceja2020.filter(enceja2020.NU_NOTA_COMP1.isNotNull())"
   ]
  },
  {
   "cell_type": "code",
   "execution_count": 39,
   "id": "70d2b3d9",
   "metadata": {},
   "outputs": [
    {
     "name": "stderr",
     "output_type": "stream",
     "text": [
      "                                                                                \r"
     ]
    },
    {
     "data": {
      "text/plain": [
       "1607841"
      ]
     },
     "execution_count": 39,
     "metadata": {},
     "output_type": "execute_result"
    }
   ],
   "source": [
    "enceja2020.count()"
   ]
  },
  {
   "cell_type": "code",
   "execution_count": 42,
   "id": "b1fdf3d2",
   "metadata": {},
   "outputs": [
    {
     "name": "stderr",
     "output_type": "stream",
     "text": [
      "                                                                                \r"
     ]
    },
    {
     "data": {
      "text/plain": [
       "345562"
      ]
     },
     "execution_count": 42,
     "metadata": {},
     "output_type": "execute_result"
    }
   ],
   "source": [
    "encejafilt.count()"
   ]
  },
  {
   "cell_type": "code",
   "execution_count": null,
   "id": "548f0b06",
   "metadata": {},
   "outputs": [],
   "source": []
  }
 ],
 "metadata": {
  "kernelspec": {
   "display_name": "Python 3 (ipykernel)",
   "language": "python",
   "name": "python3"
  },
  "language_info": {
   "codemirror_mode": {
    "name": "ipython",
    "version": 3
   },
   "file_extension": ".py",
   "mimetype": "text/x-python",
   "name": "python",
   "nbconvert_exporter": "python",
   "pygments_lexer": "ipython3",
   "version": "3.9.7"
  }
 },
 "nbformat": 4,
 "nbformat_minor": 5
}
